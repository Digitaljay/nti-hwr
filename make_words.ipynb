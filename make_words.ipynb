{
 "cells": [
  {
   "cell_type": "code",
   "execution_count": 1,
   "id": "20c06532",
   "metadata": {},
   "outputs": [],
   "source": [
    "from matplotlib import pyplot as plt\n",
    "import cv2\n",
    "import numpy as np\n",
    "import os"
   ]
  },
  {
   "cell_type": "code",
   "execution_count": 342,
   "id": "287d62c9",
   "metadata": {},
   "outputs": [
    {
     "name": "stderr",
     "output_type": "stream",
     "text": [
      "Downloading emnist.zip: 536MB [06:54, 1.36MB/s]                                                                        \n"
     ]
    }
   ],
   "source": [
    "from emnist import extract_test_samples\n",
    "images, labels = extract_test_samples('balanced')"
   ]
  },
  {
   "cell_type": "code",
   "execution_count": 669,
   "id": "7a1afcc9",
   "metadata": {},
   "outputs": [],
   "source": [
    "class Make_words:\n",
    "    def __init__(self, vocab, images, words):\n",
    "        self.vocab = vocab\n",
    "        self.images = images\n",
    "        self.words = words\n",
    "    \n",
    "    def make_words(self):\n",
    "        word = self.words[np.random.randint(len(self.words))]\n",
    "        letters = []\n",
    "        for c in word:\n",
    "            letters.append(self.images[self.vocab[c]][np.random.randint(len(self.images[self.vocab[c]]))])\n",
    "        img_word = np.array([[[255, 255, 255] for j in range(28*len(letters)+24)] for i in range(28+8)])\n",
    "        nxt_pix = 0\n",
    "        for ind, letter in enumerate(letters):\n",
    "            vert_move = np.random.randint(9)-4\n",
    "            hor_move = np.random.randint(4)-10\n",
    "            for i in range(len(letter)):\n",
    "                for j in range(len(letter[0])):\n",
    "                    if letter[i][j] <= 244:\n",
    "                        for h in range(3):\n",
    "                            img_word[4+vert_move+i, 10+nxt_pix+28*ind+hor_move+j][h] = letter[i][j]\n",
    "            nxt_pix += hor_move\n",
    "        \n",
    "        del_vert = []\n",
    "        for j in range(28*len(letters)+24-1, -1, -1):\n",
    "            is_white = True\n",
    "            for i in range(28+8):\n",
    "                if img_word[i][j][0] != 255 or img_word[i][j][1] != 255 or img_word[i][j][2] != 255:\n",
    "                    is_white = False\n",
    "                    break\n",
    "            if is_white:\n",
    "                del_vert.append(j)\n",
    "            else:\n",
    "                break\n",
    "        \n",
    "        for i in range(4):\n",
    "            del_vert.pop()\n",
    "        img_word = np.delete(img_word, del_vert, 1)\n",
    "        \n",
    "        mns_white = np.random.randint(44)\n",
    "        pls_black = np.random.randint(144)\n",
    "        for i in range(len(img_word)):\n",
    "            for j in range(len(img_word[0])):\n",
    "                if img_word[i][j][0] == 255 and img_word[i][j][1] == 255 and img_word[i][j][2] == 255:\n",
    "                    img_word[i][j] = [255-mns_white, 255-mns_white, 255-mns_white]\n",
    "                elif img_word[i][j][0] <= 44 and img_word[i][j][1] <= 44 and img_word[i][j][2] <= 44:\n",
    "                    img_word[i][j] = [pls_black, pls_black, pls_black]\n",
    "                img_word[i][j][0] = max(0, min(255, img_word[i][j][0]+np.random.randint(11)-5))\n",
    "                img_word[i][j][1] = max(0, min(255, img_word[i][j][1]+np.random.randint(11)-5))\n",
    "                img_word[i][j][2] = max(0, min(255, img_word[i][j][2]+np.random.randint(11)-5))\n",
    "        \n",
    "        return img_word"
   ]
  },
  {
   "cell_type": "code",
   "execution_count": 353,
   "id": "b3f96349",
   "metadata": {},
   "outputs": [],
   "source": [
    "vocab_new = {'0': 0,\n",
    "             '1': 1,\n",
    "             '2': 2,\n",
    "             '3': 3,\n",
    "             '4': 4,\n",
    "             '5': 5,\n",
    "             '6': 6,\n",
    "             '7': 7,\n",
    "             '8': 8,\n",
    "             '9': 9,\n",
    "             'a': 36,\n",
    "             'b': 37,\n",
    "             'c': 12,\n",
    "             'd': 38,\n",
    "             'e': 39,\n",
    "             'f': 40,\n",
    "             'g': 41,\n",
    "             'h': 42,\n",
    "             'i': 18,\n",
    "             'j': 19,\n",
    "             'k': 20,\n",
    "             'l': 21,\n",
    "             'm': 22,\n",
    "             'n': 43,\n",
    "             'o': 24,\n",
    "             'p': 25,\n",
    "             'q': 44,\n",
    "             'r': 45,\n",
    "             's': 28,\n",
    "             't': 46,\n",
    "             'u': 30,\n",
    "             'v': 31,\n",
    "             'w': 32,\n",
    "             'x': 33,\n",
    "             'y': 34,\n",
    "             'z': 35,\n",
    "             'A': 10,\n",
    "             'B': 11,\n",
    "             'C': 12,\n",
    "             'D': 13,\n",
    "             'E': 14,\n",
    "             'F': 15,\n",
    "             'G': 16,\n",
    "             'H': 17,\n",
    "             'I': 18,\n",
    "             'J': 19,\n",
    "             'K': 20,\n",
    "             'L': 21,\n",
    "             'M': 22,\n",
    "             'N': 23,\n",
    "             'O': 24,\n",
    "             'P': 25,\n",
    "             'Q': 26,\n",
    "             'R': 27,\n",
    "             'S': 28,\n",
    "             'T': 29,\n",
    "             'U': 30,\n",
    "             'V': 31,\n",
    "             'W': 32,\n",
    "             'X': 33,\n",
    "             'Y': 34,\n",
    "             'Z': 35}"
   ]
  },
  {
   "cell_type": "code",
   "execution_count": 402,
   "id": "963d93ce",
   "metadata": {},
   "outputs": [],
   "source": [
    "def get_images(path_to_folder=''):\n",
    "    '''with open(path_to_folder + 'V0.3/label.txt') as f:\n",
    "        alphabet_img = f.read().split('\\n')\n",
    "    vocab = {c: i for i, c in enumerate(alphabet_img)}\n",
    "    images = [[] for i in range(len(alphabet_img))]\n",
    "    for i, c in enumerate(alphabet_img):\n",
    "        for root, dirs, files in os.walk(path_to_folder + 'V0.3/data/' + str(i)):\n",
    "            for file in files:\n",
    "                img = cv2.imread(path_to_folder + 'V0.3/data/' + str(i) + '/' + file)\n",
    "                images[i].append(img)'''\n",
    "    \n",
    "    imgs = [[] for i in range(47)]\n",
    "    for ind in range(len(labels)):\n",
    "        imgs[labels[ind]].append(255-images[ind])\n",
    "    \n",
    "    return vocab_new, imgs"
   ]
  },
  {
   "cell_type": "code",
   "execution_count": 48,
   "id": "a5a9753f",
   "metadata": {},
   "outputs": [],
   "source": [
    "def get_words(path_to_folder=''):\n",
    "    with open(path_to_folder + 'texts.txt') as f:\n",
    "        words = f.read().split()\n",
    "    return words"
   ]
  },
  {
   "cell_type": "code",
   "execution_count": 403,
   "id": "003f1af9",
   "metadata": {},
   "outputs": [],
   "source": [
    "vocab_new, imgs = get_images()"
   ]
  },
  {
   "cell_type": "code",
   "execution_count": 404,
   "id": "8de0c588",
   "metadata": {},
   "outputs": [],
   "source": [
    "words = get_words()"
   ]
  },
  {
   "cell_type": "code",
   "execution_count": 670,
   "id": "a3724ae2",
   "metadata": {},
   "outputs": [],
   "source": [
    "creator = Make_words(vocab_new, imgs, words)"
   ]
  },
  {
   "cell_type": "code",
   "execution_count": 682,
   "id": "92bdf4e6",
   "metadata": {},
   "outputs": [
    {
     "data": {
      "image/png": "[encoded data removed]",
      "text/plain": [
       "<Figure size 432x288 with 1 Axes>"
      ]
     },
     "metadata": {
      "needs_background": "light"
     },
     "output_type": "display_data"
    }
   ],
   "source": [
    "#for i in range(100):\n",
    "img = creator.make_words()\n",
    "plt.imshow(img)\n",
    "plt.show()"
   ]
  }
 ],
 "metadata": {
  "kernelspec": {
   "display_name": "Python 3",
   "language": "python",
   "name": "python3"
  },
  "language_info": {
   "codemirror_mode": {
    "name": "ipython",
    "version": 3
   },
   "file_extension": ".py",
   "mimetype": "text/x-python",
   "name": "python",
   "nbconvert_exporter": "python",
   "pygments_lexer": "ipython3",
   "version": "3.8.8"
  }
 },
 "nbformat": 4,
 "nbformat_minor": 5
}
